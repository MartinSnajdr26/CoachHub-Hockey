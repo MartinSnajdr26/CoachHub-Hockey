{
 "cells": [
  {
   "cell_type": "code",
   "execution_count": 9,
   "id": "c7cb93bc",
   "metadata": {},
   "outputs": [
    {
     "name": "stdout",
     "output_type": "stream",
     "text": [
      "\n",
      "Found 0 games on 2024-01-01\n"
     ]
    }
   ],
   "source": [
    "import requests\n",
    "import pandas as pd\n",
    "\n",
    "date_str = \"2024-01-01\"\n",
    "url = f\"https://api-web.nhle.com/v1/schedule/{date_str}\"\n",
    "\n",
    "res = requests.get(url).json()\n",
    "games = res.get(\"games\", [])\n",
    "\n",
    "print(f\"\\nFound {len(games)} games on {date_str}\")\n",
    "\n",
    "for game in games:\n",
    "    print(f\"- {game['awayTeam']['abbrev']} @ {game['homeTeam']['abbrev']} — Game ID: {game['id']}\")\n"
   ]
  }
 ],
 "metadata": {
  "kernelspec": {
   "display_name": "playground",
   "language": "python",
   "name": "python3"
  },
  "language_info": {
   "codemirror_mode": {
    "name": "ipython",
    "version": 3
   },
   "file_extension": ".py",
   "mimetype": "text/x-python",
   "name": "python",
   "nbconvert_exporter": "python",
   "pygments_lexer": "ipython3",
   "version": "3.12.3"
  }
 },
 "nbformat": 4,
 "nbformat_minor": 5
}
